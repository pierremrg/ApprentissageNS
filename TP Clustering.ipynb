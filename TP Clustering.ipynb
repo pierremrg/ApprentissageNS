{
 "cells": [
  {
   "cell_type": "markdown",
   "metadata": {},
   "source": [
    "# Clustering k-means"
   ]
  },
  {
   "cell_type": "code",
   "execution_count": null,
   "metadata": {
    "scrolled": true
   },
   "outputs": [],
   "source": [
    "from scipy.io import arff\n",
    "\n",
    "f = open('data/diamond9.arff', 'r')\n",
    "data, meta = arff.loadarff(f)\n",
    "\n",
    "print(data[0])\n",
    "print(data['x'])\n",
    "print(data['class'])\n",
    "#print(meta)"
   ]
  },
  {
   "cell_type": "code",
   "execution_count": null,
   "metadata": {},
   "outputs": [],
   "source": [
    "import matplotlib.pyplot as plt\n",
    "\n",
    "plt.figure(figsize=(20,15))\n",
    "\n",
    "colors = ['red', 'blue', 'gray', 'cyan', 'green',\n",
    "          'brown', 'magenta', 'orange', 'purple']\n",
    "\n",
    "c_used = [colors[int(data[i]['class'])] for i in range(len(data))]\n",
    "\n",
    "plt.scatter(data['x'], data['y'], c=c_used, s=10)"
   ]
  },
  {
   "cell_type": "code",
   "execution_count": null,
   "metadata": {},
   "outputs": [],
   "source": [
    "from sklearn.cluster import KMeans\n",
    "\n",
    "X = [[data[i]['x'], data[i]['y']] for i in range(len(data))]\n",
    "\n",
    "kmeans = KMeans(n_clusters=9, random_state=0).fit(X)\n",
    "\n",
    "#kmeans.labels_\n",
    "#print(max(kmeans.labels_)) # 8 OK\n",
    "\n",
    "#print(kmeans.cluster_centers_)\n",
    "\n",
    "plt.figure(figsize=(20,15))\n",
    "\n",
    "plt.scatter(data['x'], data['y'], c=c_used, s=10)\n",
    "plt.scatter(kmeans.cluster_centers_[:,0],\n",
    "            kmeans.cluster_centers_[:,1],\n",
    "            c='black', s=500, marker='x')"
   ]
  },
  {
   "cell_type": "code",
   "execution_count": null,
   "metadata": {},
   "outputs": [],
   "source": [
    "data[0]\n",
    "data[1]\n"
   ]
  },
  {
   "cell_type": "code",
   "execution_count": null,
   "metadata": {},
   "outputs": [],
   "source": [
    "kmeans.predict([[1, 0.0]])"
   ]
  },
  {
   "cell_type": "code",
   "execution_count": null,
   "metadata": {},
   "outputs": [],
   "source": [
    "from sklearn import metrics\n",
    "\n",
    "labels_true = [int(data[i]['class']) for i in range(len(data))]\n",
    "\n",
    "metrics.adjusted_rand_score(labels_true, kmeans.labels_)"
   ]
  },
  {
   "cell_type": "code",
   "execution_count": null,
   "metadata": {},
   "outputs": [],
   "source": [
    "import time\n",
    "\n",
    "values_silhouette = []\n",
    "values_calinski = []\n",
    "values_bouldin = []\n",
    "\n",
    "times = []\n",
    "\n",
    "for k in range(2, 20):\n",
    "    start_time = time.process_time()\n",
    "    kmeans = KMeans(n_clusters=k, random_state=0).fit(X)\n",
    "    times.append(time.process_time() - start_time)\n",
    "    \n",
    "    values_silhouette.append(\n",
    "        metrics.silhouette_score(X, kmeans.labels_, metric='euclidean')\n",
    "    )\n",
    "\n",
    "    values_calinski.append(\n",
    "        metrics.calinski_harabasz_score(X, kmeans.labels_)\n",
    "    )\n",
    "    values_bouldin.append(\n",
    "        metrics.davies_bouldin_score(X, kmeans.labels_)\n",
    "    )"
   ]
  },
  {
   "cell_type": "code",
   "execution_count": null,
   "metadata": {},
   "outputs": [],
   "source": [
    "plt.figure(figsize=(17, 3))\n",
    "\n",
    "plt.subplot(1, 3, 1)\n",
    "\n",
    "plt.title('Score avec silhouette')\n",
    "plt.xlabel('Nombre de clusters')\n",
    "plt.ylabel('Score')\n",
    "plt.grid(color='#dddddd', linestyle='-', linewidth=1)\n",
    "plt.xticks(range(2,20))\n",
    "plt.plot(range(2,20), values_silhouette)\n",
    "\n",
    "plt.subplot(1, 3, 2)\n",
    "\n",
    "plt.title('Score avec Calinski')\n",
    "plt.xlabel('Nombre de clusters')\n",
    "plt.ylabel('Score')\n",
    "plt.grid(color='#dddddd', linestyle='-', linewidth=1)\n",
    "plt.xticks(range(2,20))\n",
    "plt.plot(range(2,20), values_calinski)\n",
    "\n",
    "plt.subplot(1, 3, 3)\n",
    "\n",
    "plt.title('Score avec Bouldin')\n",
    "plt.xlabel('Nombre de clusters')\n",
    "plt.ylabel('Score')\n",
    "plt.grid(color='#dddddd', linestyle='-', linewidth=1)\n",
    "plt.xticks(range(2,20))\n",
    "plt.plot(range(2,20), values_bouldin)\n"
   ]
  },
  {
   "cell_type": "code",
   "execution_count": null,
   "metadata": {},
   "outputs": [],
   "source": [
    "plt.title('Temps de recherche')\n",
    "plt.xlabel('Nombre de clusters')\n",
    "plt.ylabel('Temps d\\'entraînement')\n",
    "plt.grid(color='#dddddd', linestyle='-', linewidth=1)\n",
    "plt.xticks(range(2,20))\n",
    "plt.plot(range(2,20), times)\n",
    "plt.show()"
   ]
  },
  {
   "cell_type": "markdown",
   "metadata": {},
   "source": [
    "## Expérimentations avec d'autres formes\n",
    "\n",
    "### Convexe / non séparés"
   ]
  },
  {
   "cell_type": "code",
   "execution_count": null,
   "metadata": {},
   "outputs": [],
   "source": [
    "from scipy.io import arff\n",
    "\n",
    "f = open('data/elly.arff', 'r')\n",
    "data, meta = arff.loadarff(f)\n",
    "\n",
    "print(data[0])\n",
    "print(data['x'])\n",
    "print(data['class'])\n",
    "#print(meta)"
   ]
  },
  {
   "cell_type": "code",
   "execution_count": null,
   "metadata": {},
   "outputs": [],
   "source": [
    "import matplotlib.pyplot as plt\n",
    "\n",
    "plt.figure(figsize=(20,15))\n",
    "\n",
    "colors = ['red', 'blue', 'gray', 'cyan', 'green',\n",
    "          'brown', 'magenta', 'orange', 'purple', 'darkblue']\n",
    "\n",
    "c_used = [colors[int(data[i]['class'])] for i in range(len(data))]\n",
    "\n",
    "plt.scatter(data['x'], data['y'], c=c_used, s=10)"
   ]
  },
  {
   "cell_type": "code",
   "execution_count": null,
   "metadata": {},
   "outputs": [],
   "source": [
    "from sklearn.cluster import KMeans\n",
    "\n",
    "X = [[data[i]['x'], data[i]['y']] for i in range(len(data))]\n",
    "\n",
    "kmeans = KMeans(n_clusters=10, random_state=0).fit(X)\n",
    "\n",
    "#kmeans.labels_\n",
    "#print(max(kmeans.labels_)) # 8 OK\n",
    "\n",
    "#print(kmeans.cluster_centers_)\n",
    "\n",
    "plt.figure(figsize=(20,15))\n",
    "\n",
    "plt.scatter(data['x'], data['y'], c=c_used, s=10)\n",
    "plt.scatter(kmeans.cluster_centers_[:,0],\n",
    "            kmeans.cluster_centers_[:,1],\n",
    "            c='black', s=500, marker='x')"
   ]
  },
  {
   "cell_type": "code",
   "execution_count": null,
   "metadata": {},
   "outputs": [],
   "source": [
    "kmeans.predict([[1, 0.0]])"
   ]
  },
  {
   "cell_type": "code",
   "execution_count": null,
   "metadata": {},
   "outputs": [],
   "source": [
    "from sklearn import metrics\n",
    "\n",
    "labels_true = [int(data[i]['class']) for i in range(len(data))]\n",
    "\n",
    "metrics.adjusted_rand_score(labels_true, kmeans.labels_)"
   ]
  },
  {
   "cell_type": "code",
   "execution_count": null,
   "metadata": {
    "scrolled": false
   },
   "outputs": [],
   "source": [
    "import time\n",
    "\n",
    "values_silhouette = []\n",
    "values_calinski = []\n",
    "values_bouldin = []\n",
    "\n",
    "times = []\n",
    "\n",
    "for k in range(2, 20):\n",
    "    start_time = time.process_time()\n",
    "    kmeans = KMeans(n_clusters=k, random_state=0).fit(X)\n",
    "    times.append(time.process_time() - start_time)\n",
    "    \n",
    "    values_silhouette.append(\n",
    "        metrics.silhouette_score(X, kmeans.labels_, metric='euclidean')\n",
    "    )\n",
    "\n",
    "    values_calinski.append(\n",
    "        metrics.calinski_harabasz_score(X, kmeans.labels_)\n",
    "    )\n",
    "    values_bouldin.append(\n",
    "        metrics.davies_bouldin_score(X, kmeans.labels_)\n",
    "    )\n",
    "    \n",
    "\n"
   ]
  },
  {
   "cell_type": "code",
   "execution_count": null,
   "metadata": {},
   "outputs": [],
   "source": [
    "plt.figure(figsize=(17, 3))\n",
    "\n",
    "plt.subplot(1, 3, 1)\n",
    "\n",
    "\n",
    "plt.title('Score avec silhouette')\n",
    "plt.xlabel('Nombre de clusters')\n",
    "plt.ylabel('Score')\n",
    "plt.grid(color='#dddddd', linestyle='-', linewidth=1)\n",
    "plt.xticks(range(2,20))\n",
    "plt.plot(range(2,20), values_silhouette)\n",
    "\n",
    "plt.subplot(1, 3, 2)\n",
    "\n",
    "plt.title('Score avec Calinski')\n",
    "plt.xlabel('Nombre de clusters')\n",
    "plt.ylabel('Score')\n",
    "plt.grid(color='#dddddd', linestyle='-', linewidth=1)\n",
    "plt.xticks(range(2,20))\n",
    "plt.plot(range(2,20), values_calinski)\n",
    "\n",
    "\n",
    "plt.subplot(1, 3, 3)\n",
    "\n",
    "plt.title('Score avec Bouldin')\n",
    "plt.xlabel('Nombre de clusters')\n",
    "plt.ylabel('Score')\n",
    "plt.grid(color='#dddddd', linestyle='-', linewidth=1)\n",
    "plt.xticks(range(2,20))\n",
    "plt.plot(range(2,20), values_bouldin)"
   ]
  },
  {
   "cell_type": "markdown",
   "metadata": {},
   "source": [
    "### Convexe / bien séparés / densités non similaires / bruité"
   ]
  },
  {
   "cell_type": "code",
   "execution_count": null,
   "metadata": {},
   "outputs": [],
   "source": [
    "from scipy.io import arff\n",
    "\n",
    "f = open('data/CURE.arff', 'r')\n",
    "data, meta = arff.loadarff(f)\n",
    "\n",
    "print(data[0])\n",
    "print(data['x'])\n",
    "print(data['class'])\n",
    "#print(meta)"
   ]
  },
  {
   "cell_type": "code",
   "execution_count": null,
   "metadata": {},
   "outputs": [],
   "source": [
    "import matplotlib.pyplot as plt\n",
    "\n",
    "plt.figure(figsize=(20,15))\n",
    "\n",
    "colors = ['red', 'blue', 'gray', 'cyan', 'green',\n",
    "          'brown', 'magenta']\n",
    "\n",
    "c_used = [colors[6 if data[i]['class'].decode(\"utf-8\") == 'noise' else int(data[i]['class'])] for i in range(len(data))]\n",
    "\n",
    "plt.scatter(data['x'], data['y'], c=c_used, s=10)"
   ]
  },
  {
   "cell_type": "code",
   "execution_count": null,
   "metadata": {},
   "outputs": [],
   "source": [
    "from sklearn.cluster import KMeans\n",
    "\n",
    "X = [[data[i]['x'], data[i]['y']] for i in range(len(data))]\n",
    "\n",
    "kmeans = KMeans(n_clusters=6, random_state=0).fit(X)\n",
    "\n",
    "#kmeans.labels_\n",
    "#print(max(kmeans.labels_)) # 8 OK\n",
    "\n",
    "#print(kmeans.cluster_centers_)\n",
    "\n",
    "plt.figure(figsize=(20,15))\n",
    "\n",
    "plt.scatter(data['x'], data['y'], c=c_used, s=10)\n",
    "plt.scatter(kmeans.cluster_centers_[:,0],\n",
    "            kmeans.cluster_centers_[:,1],\n",
    "            c='black', s=500, marker='x')"
   ]
  },
  {
   "cell_type": "code",
   "execution_count": null,
   "metadata": {},
   "outputs": [],
   "source": [
    "kmeans.predict([[1, 0.0]])"
   ]
  },
  {
   "cell_type": "code",
   "execution_count": null,
   "metadata": {},
   "outputs": [],
   "source": [
    "from sklearn import metrics\n",
    "\n",
    "labels_true = [6 if data[i]['class'].decode(\"utf-8\") == 'noise' else int(data[i]['class']) for i in range(len(data))]\n",
    "\n",
    "metrics.adjusted_rand_score(labels_true, kmeans.labels_)"
   ]
  },
  {
   "cell_type": "code",
   "execution_count": null,
   "metadata": {},
   "outputs": [],
   "source": [
    "import time\n",
    "\n",
    "values_silhouette = []\n",
    "values_calinski = []\n",
    "values_bouldin = []\n",
    "\n",
    "times = []\n",
    "\n",
    "for k in range(2, 20):\n",
    "    start_time = time.process_time()\n",
    "    kmeans = KMeans(n_clusters=k, random_state=0).fit(X)\n",
    "    times.append(time.process_time() - start_time)\n",
    "    \n",
    "    values_silhouette.append(\n",
    "        metrics.silhouette_score(X, kmeans.labels_, metric='euclidean')\n",
    "    )\n",
    "\n",
    "    values_calinski.append(\n",
    "        metrics.calinski_harabasz_score(X, kmeans.labels_)\n",
    "    )\n",
    "    values_bouldin.append(\n",
    "        metrics.davies_bouldin_score(X, kmeans.labels_)\n",
    "    )\n",
    "    \n",
    "    "
   ]
  },
  {
   "cell_type": "code",
   "execution_count": null,
   "metadata": {},
   "outputs": [],
   "source": [
    "plt.figure(figsize=(17, 3))\n",
    "\n",
    "plt.subplot(1, 3, 1)\n",
    "\n",
    "\n",
    "plt.title('Score avec silhouette')\n",
    "plt.xlabel('Nombre de clusters')\n",
    "plt.ylabel('Score')\n",
    "plt.grid(color='#dddddd', linestyle='-', linewidth=1)\n",
    "plt.xticks(range(2,20))\n",
    "plt.plot(range(2,20), values_silhouette)\n",
    "\n",
    "plt.subplot(1, 3, 2)\n",
    "\n",
    "plt.title('Score avec Calinski')\n",
    "plt.xlabel('Nombre de clusters')\n",
    "plt.ylabel('Score')\n",
    "plt.grid(color='#dddddd', linestyle='-', linewidth=1)\n",
    "plt.xticks(range(2,20))\n",
    "plt.plot(range(2,20), values_calinski)\n",
    "\n",
    "\n",
    "plt.subplot(1, 3, 3)\n",
    "\n",
    "plt.title('Score avec Bouldin')\n",
    "plt.xlabel('Nombre de clusters')\n",
    "plt.ylabel('Score')\n",
    "plt.grid(color='#dddddd', linestyle='-', linewidth=1)\n",
    "plt.xticks(range(2,20))\n",
    "plt.plot(range(2,20), values_bouldin)"
   ]
  },
  {
   "cell_type": "markdown",
   "metadata": {},
   "source": [
    "Penser à tester avec des formes non convexes pour voir si ça influe le résultat. "
   ]
  },
  {
   "cell_type": "markdown",
   "metadata": {},
   "source": [
    "# Clustering agglométarif"
   ]
  },
  {
   "cell_type": "code",
   "execution_count": null,
   "metadata": {},
   "outputs": [],
   "source": [
    "from scipy.io import arff\n",
    "\n",
    "# CURE, diamond9, spiral\n",
    "f = open('data/spiral.arff', 'r')\n",
    "data, meta = arff.loadarff(f)\n",
    "\n",
    "print(data[0])\n",
    "print(data['x'])\n",
    "print(data['class'])\n",
    "#print(meta)"
   ]
  },
  {
   "cell_type": "code",
   "execution_count": null,
   "metadata": {},
   "outputs": [],
   "source": [
    "from sklearn.cluster import AgglomerativeClustering\n",
    "from scipy.cluster.hierarchy import dendrogram\n",
    "import numpy as np\n",
    "\n",
    "colors = ['red', 'blue', 'gray', 'cyan', 'green',\n",
    "          'brown', 'magenta', 'orange', 'purple']\n",
    "c_used = [colors[6 if data[i]['class'].decode(\"utf-8\") == 'noise' else int(data[i]['class'])] for i in range(len(data))]\n",
    "\n",
    "X = [[data[i]['x'], data[i]['y']] for i in range(len(data))]\n",
    "\n",
    "agglo = AgglomerativeClustering(n_clusters=9, linkage='ward').fit(X)\n",
    "\n",
    "plt.figure(figsize=(20,15))\n",
    "\n",
    "\n",
    "children = agglo.children_\n",
    "\n",
    "# Distances between each pair of children\n",
    "# Since we don't have this information, we can use a uniform one for plotting\n",
    "distance = np.arange(children.shape[0])\n",
    "\n",
    "# The number of observations contained in each cluster level\n",
    "no_of_observations = np.arange(2, children.shape[0]+2)\n",
    "\n",
    "# Create linkage matrix and then plot the dendrogram\n",
    "linkage_matrix = np.column_stack([children, distance, no_of_observations]).astype(float)"
   ]
  },
  {
   "cell_type": "code",
   "execution_count": null,
   "metadata": {},
   "outputs": [],
   "source": [
    "# Plot the corresponding dendrogram\n",
    "plt.figure(figsize=(20,20))\n",
    "dendrogram(linkage_matrix)"
   ]
  },
  {
   "cell_type": "code",
   "execution_count": null,
   "metadata": {
    "scrolled": false
   },
   "outputs": [],
   "source": [
    "colors = ['red', 'blue', 'gray', 'cyan', 'green',\n",
    "          'brown', 'magenta', 'orange', 'purple',\n",
    "          'darkblue', 'salmon', 'steelblue']\n",
    "\n",
    "X = [[data[i]['x'], data[i]['y']] for i in range(len(data))]\n",
    "\n",
    "plt.figure(figsize=(20,20))\n",
    "\n",
    "for k in range(2, 13):\n",
    "    agglo = AgglomerativeClustering(n_clusters=k, linkage='ward').fit(X)\n",
    "    c_used = [colors[agglo.labels_[i]] for i in range(len(data))]\n",
    "\n",
    "    \n",
    "    plt.subplot(5, 3, k-1)\n",
    "    plt.scatter(data['x'], data['y'], c=c_used, s=10)"
   ]
  },
  {
   "cell_type": "markdown",
   "metadata": {},
   "source": [
    "diamond9 > nickel (0.99)\n",
    "\n",
    "CURE > Ca marche plutôt bien sauf pour le gros qui est toujours divisé (même problème que k-means)\n",
    "Le bruit est rattaché à un cluster\n",
    "\n",
    "Spiral > dégueu (0.01)"
   ]
  },
  {
   "cell_type": "code",
   "execution_count": null,
   "metadata": {},
   "outputs": [],
   "source": [
    "from sklearn import metrics\n",
    "\n",
    "#labels_true = [6 if data[i]['class'].decode(\"utf-8\") == 'noise' else int(data[i]['class']) for i in range(len(data))]\n",
    "labels_true = [int(data[i]['class']) for i in range(len(data))]\n",
    "\n",
    "metrics.adjusted_rand_score(labels_true, agglo.labels_)"
   ]
  },
  {
   "cell_type": "markdown",
   "metadata": {},
   "source": [
    "## Test de différentes méthodes de linkage"
   ]
  },
  {
   "cell_type": "code",
   "execution_count": null,
   "metadata": {},
   "outputs": [],
   "source": [
    "from scipy.io import arff\n",
    "\n",
    "f = open('data/aggregation.arff', 'r')\n",
    "data, meta = arff.loadarff(f)\n",
    "\n",
    "colors = ['red', 'blue', 'gray', 'cyan', 'green',\n",
    "          'brown', 'magenta', 'orange', 'purple',\n",
    "          'darkblue', 'salmon', 'steelblue']\n",
    "\n",
    "linkages = ['ward', 'complete', 'average', 'single']\n",
    "\n",
    "X = [[data[i]['x'], data[i]['y']] for i in range(len(data))]\n",
    "\n",
    "plt.figure(figsize=(15,15))\n",
    "\n",
    "i = 1\n",
    "for linkage in linkages:\n",
    "    agglo = AgglomerativeClustering(n_clusters=7, linkage=linkage).fit(X)\n",
    "    c_used = [colors[agglo.labels_[i]] for i in range(len(data))]\n",
    "\n",
    "    \n",
    "    plt.subplot(5, 3, i)\n",
    "    plt.scatter(data['x'], data['y'], c=c_used, s=10)\n",
    "    plt.title(linkage)\n",
    "    i += 1\n",
    "    \n",
    "    \n",
    "\n",
    "    \n",
    "    \n",
    "    \n",
    "f = open('data/diamond9.arff', 'r')\n",
    "data, meta = arff.loadarff(f)\n",
    "\n",
    "colors = ['red', 'blue', 'gray', 'cyan', 'green',\n",
    "          'brown', 'magenta', 'orange', 'purple',\n",
    "          'darkblue', 'salmon', 'steelblue']\n",
    "\n",
    "linkages = ['ward', 'complete', 'average', 'single']\n",
    "\n",
    "X = [[data[i]['x'], data[i]['y']] for i in range(len(data))]\n",
    "\n",
    "plt.figure(figsize=(15,15))\n",
    "\n",
    "i = 1\n",
    "for linkage in linkages:\n",
    "    agglo = AgglomerativeClustering(n_clusters=9, linkage=linkage).fit(X)\n",
    "    c_used = [colors[agglo.labels_[i]] for i in range(len(data))]\n",
    "\n",
    "    \n",
    "    plt.subplot(5, 3, i)\n",
    "    plt.scatter(data['x'], data['y'], c=c_used, s=10)\n",
    "    plt.title(linkage)\n",
    "    i += 1\n",
    "\n",
    "    \n",
    "\n",
    "    \n",
    "    \n",
    "    \n",
    "f = open('data/CURE.arff', 'r')\n",
    "data, meta = arff.loadarff(f)\n",
    "\n",
    "colors = ['red', 'blue', 'gray', 'cyan', 'green',\n",
    "          'brown', 'magenta', 'orange', 'purple',\n",
    "          'darkblue', 'salmon', 'steelblue']\n",
    "\n",
    "linkages = ['ward', 'complete', 'average', 'single']\n",
    "\n",
    "X = [[data[i]['x'], data[i]['y']] for i in range(len(data))]\n",
    "\n",
    "plt.figure(figsize=(15,15))\n",
    "\n",
    "i = 1\n",
    "for linkage in linkages:\n",
    "    agglo = AgglomerativeClustering(n_clusters=6, linkage=linkage).fit(X)\n",
    "    c_used = [colors[agglo.labels_[i]] for i in range(len(data))]\n",
    "\n",
    "    \n",
    "    plt.subplot(5, 3, i)\n",
    "    plt.scatter(data['x'], data['y'], c=c_used, s=10)\n",
    "    plt.title(linkage)\n",
    "    i += 1"
   ]
  },
  {
   "cell_type": "markdown",
   "metadata": {},
   "source": [
    "TODO : Calculer les scores"
   ]
  },
  {
   "cell_type": "markdown",
   "metadata": {},
   "source": [
    "# Clustering DBSCAN"
   ]
  },
  {
   "cell_type": "code",
   "execution_count": null,
   "metadata": {
    "scrolled": false
   },
   "outputs": [],
   "source": [
    "from scipy.io import arff\n",
    "from sklearn.cluster import DBSCAN\n",
    "\n",
    "f = open('data/diamond9.arff', 'r')\n",
    "data, meta = arff.loadarff(f)\n",
    "\n",
    "\n",
    "colors = ['red', 'blue', 'gray', 'cyan', 'green',\n",
    "          'brown', 'magenta', 'orange', 'purple',\n",
    "          'darkblue', 'salmon', 'steelblue']\n",
    "\n",
    "X = [[data[i]['x'], data[i]['y']] for i in range(len(data))]\n",
    "\n",
    "plt.figure(figsize=(15,15))\n",
    "\n",
    "j = 1\n",
    "for eps in [0.01, 0.1, 0.2, 0.35, 0.5]:\n",
    "    dbscan = DBSCAN(eps=eps).fit(X)\n",
    "    \n",
    "    plt.subplot(2, 3, j)\n",
    "    plt.scatter(data['x'], data['y'], c=dbscan.labels_, s=10)\n",
    "    plt.title(\"Avec eps=\" + str(eps) + \" (\" + str(max(dbscan.labels_ + 1)) + \" clusters trouvés)\")\n",
    "    j += 1"
   ]
  },
  {
   "cell_type": "code",
   "execution_count": null,
   "metadata": {},
   "outputs": [],
   "source": [
    "from scipy.io import arff\n",
    "from sklearn.cluster import DBSCAN\n",
    "\n",
    "f = open('data/diamond9.arff', 'r')\n",
    "data, meta = arff.loadarff(f)\n",
    "\n",
    "\n",
    "colors = ['red', 'blue', 'gray', 'cyan', 'green',\n",
    "          'brown', 'magenta', 'orange', 'purple',\n",
    "          'darkblue', 'salmon', 'steelblue']\n",
    "\n",
    "X = [[data[i]['x'], data[i]['y']] for i in range(len(data))]\n",
    "\n",
    "plt.figure(figsize=(15,50))\n",
    "\n",
    "j = 1\n",
    "\n",
    "values_silhouette = []\n",
    "values_calinski = []\n",
    "values_bouldin = []\n",
    "\n",
    "times = []\n",
    "\n",
    "for eps in range(5, 16):\n",
    "    eps = eps / 100\n",
    "    \n",
    "    for min_samples in range(2, 15):\n",
    "        start_time = time.process_time()\n",
    "        dbscan = DBSCAN(eps=eps, min_samples=min_samples).fit(X)\n",
    "        times.append(time.process_time() - start_time)\n",
    "        \n",
    "        if max(dbscan.labels_) >= 1:\n",
    "            values_silhouette.append(\n",
    "                metrics.silhouette_score(X, dbscan.labels_, metric='euclidean')\n",
    "            )\n",
    "            values_calinski.append(\n",
    "                metrics.calinski_harabasz_score(X, dbscan.labels_)\n",
    "            )\n",
    "            values_bouldin.append(\n",
    "                metrics.davies_bouldin_score(X, dbscan.labels_)\n",
    "            )\n",
    "        else:\n",
    "            values_silhouette.append(0)\n",
    "            values_calinski.append(0)\n",
    "            values_bouldin.append(0)\n",
    "        \n",
    "        score = max(dbscan.labels_) + 1\n",
    "        \n",
    "        if (score >= 8 and score <= 10):\n",
    "            print(\"eps : \" + str(eps) + \" / min_s = \" + str(min_samples) + \" / clusters trouvés : \" + str(score))\n",
    "            print(dbscan.labels_)\n",
    "            plt.subplot(10, 3, j)\n",
    "            #plt.scatter(data['x'], data['y'], c=dbscan.labels_, s=10)\n",
    "            c_used = [colors[dbscan.labels_[i]] for i in range(len(data))]\n",
    "            plt.scatter(data['x'], data['y'], c=c_used, s=10)\n",
    "            plt.title(\"eps=\" + str(eps) + \" / min_samples=\" + str(min_samples) + \" (\" + str(max(dbscan.labels_ + 1)) + \" clusters trouvés)\")\n",
    "            j += 1\n"
   ]
  },
  {
   "cell_type": "code",
   "execution_count": null,
   "metadata": {
    "scrolled": true
   },
   "outputs": [],
   "source": [
    "from mpl_toolkits import mplot3d\n",
    "\n",
    "zline = np.linspace(0, max(values_silhouette), 1000)\n",
    "xline = np.linspace(0.05, 0.16, 1000)\n",
    "yline = np.linspace(1, 15, 1000)\n",
    "\n",
    "zdata = values_silhouette\n",
    "xdata = range(5, 16)\n",
    "ydata = range(2, 15)\n",
    "\n",
    "ax = plt.axes(projection='3d')\n",
    "#ax.view_init(30, 45)\n",
    "ax.scatter3D(xdata, ydata, zdata, c=zdata, cmap=\"Greens\")"
   ]
  },
  {
   "cell_type": "code",
   "execution_count": null,
   "metadata": {},
   "outputs": [],
   "source": [
    "from mpl_toolkits.mplot3d import Axes3D\n",
    "\n",
    "Axes3D.plot(range(5, 16), range(2, 15), values_silhouette)"
   ]
  },
  {
   "cell_type": "markdown",
   "metadata": {},
   "source": [
    "On retient eps=0.15 et min_samples=9\n",
    "\n",
    "On retrouve bien nos 9 clusters, et peu de points restent non classés"
   ]
  },
  {
   "cell_type": "code",
   "execution_count": null,
   "metadata": {},
   "outputs": [],
   "source": [
    "from scipy.io import arff\n",
    "from sklearn.cluster import DBSCAN\n",
    "\n",
    "f = open('data/spiral.arff', 'r')\n",
    "data, meta = arff.loadarff(f)\n",
    "\n",
    "\n",
    "colors = ['red', 'blue', 'gray', 'cyan', 'green',\n",
    "          'brown', 'magenta', 'orange', 'purple',\n",
    "          'darkblue', 'salmon', 'steelblue']\n",
    "\n",
    "X = [[data[i]['x'], data[i]['y']] for i in range(len(data))]\n",
    "\n",
    "plt.figure(figsize=(15,50))\n",
    "\n",
    "j = 1\n",
    "\n",
    "values_silhouette = []\n",
    "values_calinski = []\n",
    "values_bouldin = []\n",
    "\n",
    "times = []\n",
    "\n",
    "for eps in range(1, 110):\n",
    "    eps = eps / 100\n",
    "    \n",
    "    for min_samples in range(2, 150):\n",
    "        start_time = time.process_time()\n",
    "        dbscan = DBSCAN(eps=eps, min_samples=min_samples).fit(X)\n",
    "        times.append(time.process_time() - start_time)\n",
    "        \n",
    "        if max(dbscan.labels_) >= 1:\n",
    "            values_silhouette.append(\n",
    "                metrics.silhouette_score(X, dbscan.labels_, metric='euclidean')\n",
    "            )\n",
    "            values_calinski.append(\n",
    "                metrics.calinski_harabasz_score(X, dbscan.labels_)\n",
    "            )\n",
    "            values_bouldin.append(\n",
    "                metrics.davies_bouldin_score(X, dbscan.labels_)\n",
    "            )\n",
    "        else:\n",
    "            values_silhouette.append(0)\n",
    "            values_calinski.append(0)\n",
    "            values_bouldin.append(0)\n",
    "        \n",
    "        score = max(dbscan.labels_) + 1\n",
    "        \n",
    "        printed = 0\n",
    "        if (score == 3 and printed <= 5):\n",
    "            print(\"eps : \" + str(eps) + \" / min_s = \" + str(min_samples) + \" / clusters trouvés : \" + str(score))\n",
    "            plt.subplot(10, 3, j)\n",
    "            #plt.scatter(data['x'], data['y'], c=dbscan.labels_, s=10)\n",
    "            c_used = [colors[dbscan.labels_[i]] for i in range(len(data))]\n",
    "            plt.scatter(data['x'], data['y'], c=c_used, s=10)\n",
    "            plt.title(\"eps=\" + str(eps) + \" / min_samples=\" + str(min_samples) + \" (\" + str(max(dbscan.labels_ + 1)) + \" clusters trouvés)\")\n",
    "            j += 1\n",
    "            printed += 1\n",
    "            print(printed)\n"
   ]
  },
  {
   "cell_type": "markdown",
   "metadata": {},
   "source": [
    "Dire que les métriques sont pas vraiment utiles ici\n",
    "\n",
    "A tester sur les spirales (ça marche bien 1/5)\n",
    "\n",
    "# HDBSCAN"
   ]
  },
  {
   "cell_type": "code",
   "execution_count": null,
   "metadata": {},
   "outputs": [],
   "source": [
    "import hdbscan\n",
    "\n",
    "f = open('data/diamond9.arff', 'r')\n",
    "data, meta = arff.loadarff(f)\n",
    "\n",
    "\n",
    "colors = ['red', 'blue', 'gray', 'cyan', 'green',\n",
    "          'brown', 'magenta', 'orange', 'purple',\n",
    "          'darkblue', 'salmon', '#000000']\n",
    "\n",
    "X = [[data[i]['x'], data[i]['y']] for i in range(len(data))]\n",
    "\n",
    "#plt.figure(figsize=(15,50))\n",
    "\n",
    "values_silhouette = []\n",
    "values_calinski = []\n",
    "values_bouldin = []\n",
    "\n",
    "times = []\n",
    "\n",
    "\n",
    "start_time = time.process_time()\n",
    "hdbscan_labels = hdbscan.HDBSCAN(min_cluster_size=10).fit_predict(X)\n",
    "times.append(time.process_time() - start_time)\n",
    "\n",
    "\n",
    "c_used = [colors[hdbscan_labels[i]] for i in range(len(data))]\n",
    "plt.scatter(data['x'], data['y'], c=c_used, s=10)\n",
    "plt.title(str(max(hdbscan_labels + 1)) + \" clusters trouvés)\")\n",
    "j += 1"
   ]
  },
  {
   "cell_type": "code",
   "execution_count": null,
   "metadata": {},
   "outputs": [],
   "source": []
  },
  {
   "cell_type": "code",
   "execution_count": null,
   "metadata": {},
   "outputs": [],
   "source": []
  },
  {
   "cell_type": "code",
   "execution_count": null,
   "metadata": {},
   "outputs": [],
   "source": []
  },
  {
   "cell_type": "code",
   "execution_count": null,
   "metadata": {},
   "outputs": [],
   "source": []
  },
  {
   "cell_type": "code",
   "execution_count": null,
   "metadata": {},
   "outputs": [],
   "source": []
  }
 ],
 "metadata": {
  "kernelspec": {
   "display_name": "Python 3",
   "language": "python",
   "name": "python3"
  },
  "language_info": {
   "codemirror_mode": {
    "name": "ipython",
    "version": 3
   },
   "file_extension": ".py",
   "mimetype": "text/x-python",
   "name": "python",
   "nbconvert_exporter": "python",
   "pygments_lexer": "ipython3",
   "version": "3.7.4"
  },
  "latex_envs": {
   "LaTeX_envs_menu_present": true,
   "autoclose": false,
   "autocomplete": true,
   "bibliofile": "biblio.bib",
   "cite_by": "apalike",
   "current_citInitial": 1,
   "eqLabelWithNumbers": true,
   "eqNumInitial": 1,
   "hotkeys": {
    "equation": "Ctrl-E",
    "itemize": "Ctrl-I"
   },
   "labels_anchors": false,
   "latex_user_defs": false,
   "report_style_numbering": false,
   "user_envs_cfg": false
  }
 },
 "nbformat": 4,
 "nbformat_minor": 2
}
